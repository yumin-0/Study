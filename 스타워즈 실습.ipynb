{
 "cells": [
  {
   "cell_type": "code",
   "execution_count": 2,
   "id": "772c20b2",
   "metadata": {},
   "outputs": [],
   "source": [
    "import math\n",
    "import numpy as np\n",
    "import pandas as pd\n",
    "import seaborn as sns\n",
    "import matplotlib.pyplot as plt\n",
    "import warnings #경고 메세지 무시하기\n",
    "warnings.filterwarnings(action='ignore')"
   ]
  },
  {
   "cell_type": "code",
   "execution_count": 3,
   "id": "20b7db80",
   "metadata": {
    "scrolled": true
   },
   "outputs": [],
   "source": [
    "plt.rcParams['font.family'] = 'AppleGothic'"
   ]
  },
  {
   "cell_type": "code",
   "execution_count": 4,
   "id": "c82cbdec",
   "metadata": {},
   "outputs": [],
   "source": [
    "sw = pd.read_csv('/Users/kang-yumin/Desktop/Ch 01_파이썬 실습 Starwars/Starwars.csv')"
   ]
  },
  {
   "cell_type": "code",
   "execution_count": 8,
   "id": "1765d0b9",
   "metadata": {},
   "outputs": [
    {
     "data": {
      "text/html": [
       "<div>\n",
       "<style scoped>\n",
       "    .dataframe tbody tr th:only-of-type {\n",
       "        vertical-align: middle;\n",
       "    }\n",
       "\n",
       "    .dataframe tbody tr th {\n",
       "        vertical-align: top;\n",
       "    }\n",
       "\n",
       "    .dataframe thead th {\n",
       "        text-align: right;\n",
       "    }\n",
       "</style>\n",
       "<table border=\"1\" class=\"dataframe\">\n",
       "  <thead>\n",
       "    <tr style=\"text-align: right;\">\n",
       "      <th></th>\n",
       "      <th>name</th>\n",
       "      <th>height</th>\n",
       "      <th>mass</th>\n",
       "      <th>hair_color</th>\n",
       "      <th>skin_color</th>\n",
       "      <th>eye_color</th>\n",
       "      <th>birth_year</th>\n",
       "      <th>sex</th>\n",
       "      <th>gender</th>\n",
       "      <th>homeworld</th>\n",
       "      <th>species</th>\n",
       "    </tr>\n",
       "  </thead>\n",
       "  <tbody>\n",
       "    <tr>\n",
       "      <th>0</th>\n",
       "      <td>Luke Skywalker</td>\n",
       "      <td>172.0</td>\n",
       "      <td>77.0</td>\n",
       "      <td>blond</td>\n",
       "      <td>fair</td>\n",
       "      <td>blue</td>\n",
       "      <td>19.0</td>\n",
       "      <td>male</td>\n",
       "      <td>masculine</td>\n",
       "      <td>Tatooine</td>\n",
       "      <td>Human</td>\n",
       "    </tr>\n",
       "    <tr>\n",
       "      <th>1</th>\n",
       "      <td>C-3PO</td>\n",
       "      <td>167.0</td>\n",
       "      <td>75.0</td>\n",
       "      <td>NaN</td>\n",
       "      <td>gold</td>\n",
       "      <td>yellow</td>\n",
       "      <td>112.0</td>\n",
       "      <td>none</td>\n",
       "      <td>masculine</td>\n",
       "      <td>Tatooine</td>\n",
       "      <td>Droid</td>\n",
       "    </tr>\n",
       "    <tr>\n",
       "      <th>2</th>\n",
       "      <td>R2-D2</td>\n",
       "      <td>96.0</td>\n",
       "      <td>32.0</td>\n",
       "      <td>NaN</td>\n",
       "      <td>white, blue</td>\n",
       "      <td>red</td>\n",
       "      <td>33.0</td>\n",
       "      <td>none</td>\n",
       "      <td>masculine</td>\n",
       "      <td>Naboo</td>\n",
       "      <td>Droid</td>\n",
       "    </tr>\n",
       "    <tr>\n",
       "      <th>3</th>\n",
       "      <td>Darth Vader</td>\n",
       "      <td>202.0</td>\n",
       "      <td>136.0</td>\n",
       "      <td>none</td>\n",
       "      <td>white</td>\n",
       "      <td>yellow</td>\n",
       "      <td>41.9</td>\n",
       "      <td>male</td>\n",
       "      <td>masculine</td>\n",
       "      <td>Tatooine</td>\n",
       "      <td>Human</td>\n",
       "    </tr>\n",
       "    <tr>\n",
       "      <th>4</th>\n",
       "      <td>Leia Organa</td>\n",
       "      <td>150.0</td>\n",
       "      <td>49.0</td>\n",
       "      <td>brown</td>\n",
       "      <td>light</td>\n",
       "      <td>brown</td>\n",
       "      <td>19.0</td>\n",
       "      <td>female</td>\n",
       "      <td>feminine</td>\n",
       "      <td>Alderaan</td>\n",
       "      <td>Human</td>\n",
       "    </tr>\n",
       "  </tbody>\n",
       "</table>\n",
       "</div>"
      ],
      "text/plain": [
       "             name  height   mass hair_color   skin_color eye_color  \\\n",
       "0  Luke Skywalker   172.0   77.0      blond         fair      blue   \n",
       "1           C-3PO   167.0   75.0        NaN         gold    yellow   \n",
       "2           R2-D2    96.0   32.0        NaN  white, blue       red   \n",
       "3     Darth Vader   202.0  136.0       none        white    yellow   \n",
       "4     Leia Organa   150.0   49.0      brown        light     brown   \n",
       "\n",
       "   birth_year     sex     gender homeworld species  \n",
       "0        19.0    male  masculine  Tatooine   Human  \n",
       "1       112.0    none  masculine  Tatooine   Droid  \n",
       "2        33.0    none  masculine     Naboo   Droid  \n",
       "3        41.9    male  masculine  Tatooine   Human  \n",
       "4        19.0  female   feminine  Alderaan   Human  "
      ]
     },
     "execution_count": 8,
     "metadata": {},
     "output_type": "execute_result"
    }
   ],
   "source": [
    "sw.head()"
   ]
  },
  {
   "cell_type": "code",
   "execution_count": 9,
   "id": "0d0508d4",
   "metadata": {},
   "outputs": [],
   "source": [
    "# 칼럼 설명\n",
    "#범주형 변수, 연속형 범주 구분"
   ]
  },
  {
   "cell_type": "code",
   "execution_count": 10,
   "id": "978cc021",
   "metadata": {},
   "outputs": [
    {
     "name": "stdout",
     "output_type": "stream",
     "text": [
      "<class 'pandas.core.frame.DataFrame'>\n",
      "RangeIndex: 87 entries, 0 to 86\n",
      "Data columns (total 11 columns):\n",
      " #   Column      Non-Null Count  Dtype  \n",
      "---  ------      --------------  -----  \n",
      " 0   name        87 non-null     object \n",
      " 1   height      81 non-null     float64\n",
      " 2   mass        59 non-null     float64\n",
      " 3   hair_color  82 non-null     object \n",
      " 4   skin_color  87 non-null     object \n",
      " 5   eye_color   87 non-null     object \n",
      " 6   birth_year  43 non-null     float64\n",
      " 7   sex         83 non-null     object \n",
      " 8   gender      83 non-null     object \n",
      " 9   homeworld   77 non-null     object \n",
      " 10  species     83 non-null     object \n",
      "dtypes: float64(3), object(8)\n",
      "memory usage: 7.6+ KB\n"
     ]
    }
   ],
   "source": [
    "sw.info() #컬럼 기본 정보 확인하기"
   ]
  },
  {
   "cell_type": "code",
   "execution_count": 11,
   "id": "e493497a",
   "metadata": {},
   "outputs": [
    {
     "data": {
      "text/html": [
       "<div>\n",
       "<style scoped>\n",
       "    .dataframe tbody tr th:only-of-type {\n",
       "        vertical-align: middle;\n",
       "    }\n",
       "\n",
       "    .dataframe tbody tr th {\n",
       "        vertical-align: top;\n",
       "    }\n",
       "\n",
       "    .dataframe thead th {\n",
       "        text-align: right;\n",
       "    }\n",
       "</style>\n",
       "<table border=\"1\" class=\"dataframe\">\n",
       "  <thead>\n",
       "    <tr style=\"text-align: right;\">\n",
       "      <th></th>\n",
       "      <th>height</th>\n",
       "      <th>mass</th>\n",
       "      <th>birth_year</th>\n",
       "    </tr>\n",
       "  </thead>\n",
       "  <tbody>\n",
       "    <tr>\n",
       "      <th>count</th>\n",
       "      <td>81.000000</td>\n",
       "      <td>59.000000</td>\n",
       "      <td>43.000000</td>\n",
       "    </tr>\n",
       "    <tr>\n",
       "      <th>mean</th>\n",
       "      <td>174.358025</td>\n",
       "      <td>97.311864</td>\n",
       "      <td>87.565116</td>\n",
       "    </tr>\n",
       "    <tr>\n",
       "      <th>std</th>\n",
       "      <td>34.770429</td>\n",
       "      <td>169.457163</td>\n",
       "      <td>154.691439</td>\n",
       "    </tr>\n",
       "    <tr>\n",
       "      <th>min</th>\n",
       "      <td>66.000000</td>\n",
       "      <td>15.000000</td>\n",
       "      <td>8.000000</td>\n",
       "    </tr>\n",
       "    <tr>\n",
       "      <th>25%</th>\n",
       "      <td>167.000000</td>\n",
       "      <td>55.600000</td>\n",
       "      <td>35.000000</td>\n",
       "    </tr>\n",
       "    <tr>\n",
       "      <th>50%</th>\n",
       "      <td>180.000000</td>\n",
       "      <td>79.000000</td>\n",
       "      <td>52.000000</td>\n",
       "    </tr>\n",
       "    <tr>\n",
       "      <th>75%</th>\n",
       "      <td>191.000000</td>\n",
       "      <td>84.500000</td>\n",
       "      <td>72.000000</td>\n",
       "    </tr>\n",
       "    <tr>\n",
       "      <th>max</th>\n",
       "      <td>264.000000</td>\n",
       "      <td>1358.000000</td>\n",
       "      <td>896.000000</td>\n",
       "    </tr>\n",
       "  </tbody>\n",
       "</table>\n",
       "</div>"
      ],
      "text/plain": [
       "           height         mass  birth_year\n",
       "count   81.000000    59.000000   43.000000\n",
       "mean   174.358025    97.311864   87.565116\n",
       "std     34.770429   169.457163  154.691439\n",
       "min     66.000000    15.000000    8.000000\n",
       "25%    167.000000    55.600000   35.000000\n",
       "50%    180.000000    79.000000   52.000000\n",
       "75%    191.000000    84.500000   72.000000\n",
       "max    264.000000  1358.000000  896.000000"
      ]
     },
     "execution_count": 11,
     "metadata": {},
     "output_type": "execute_result"
    }
   ],
   "source": [
    "sw.describe() #연속형(수치) 데이터의 통계치 확인하기"
   ]
  },
  {
   "cell_type": "code",
   "execution_count": 17,
   "id": "62e8f5ad",
   "metadata": {},
   "outputs": [
    {
     "data": {
      "text/html": [
       "<div>\n",
       "<style scoped>\n",
       "    .dataframe tbody tr th:only-of-type {\n",
       "        vertical-align: middle;\n",
       "    }\n",
       "\n",
       "    .dataframe tbody tr th {\n",
       "        vertical-align: top;\n",
       "    }\n",
       "\n",
       "    .dataframe thead th {\n",
       "        text-align: right;\n",
       "    }\n",
       "</style>\n",
       "<table border=\"1\" class=\"dataframe\">\n",
       "  <thead>\n",
       "    <tr style=\"text-align: right;\">\n",
       "      <th></th>\n",
       "      <th>name</th>\n",
       "      <th>hair_color</th>\n",
       "      <th>skin_color</th>\n",
       "      <th>eye_color</th>\n",
       "      <th>sex</th>\n",
       "      <th>gender</th>\n",
       "      <th>homeworld</th>\n",
       "      <th>species</th>\n",
       "    </tr>\n",
       "  </thead>\n",
       "  <tbody>\n",
       "    <tr>\n",
       "      <th>count</th>\n",
       "      <td>87</td>\n",
       "      <td>82</td>\n",
       "      <td>87</td>\n",
       "      <td>87</td>\n",
       "      <td>83</td>\n",
       "      <td>83</td>\n",
       "      <td>77</td>\n",
       "      <td>83</td>\n",
       "    </tr>\n",
       "    <tr>\n",
       "      <th>unique</th>\n",
       "      <td>87</td>\n",
       "      <td>12</td>\n",
       "      <td>31</td>\n",
       "      <td>15</td>\n",
       "      <td>4</td>\n",
       "      <td>2</td>\n",
       "      <td>48</td>\n",
       "      <td>37</td>\n",
       "    </tr>\n",
       "    <tr>\n",
       "      <th>top</th>\n",
       "      <td>Luke Skywalker</td>\n",
       "      <td>none</td>\n",
       "      <td>fair</td>\n",
       "      <td>brown</td>\n",
       "      <td>male</td>\n",
       "      <td>masculine</td>\n",
       "      <td>Naboo</td>\n",
       "      <td>Human</td>\n",
       "    </tr>\n",
       "    <tr>\n",
       "      <th>freq</th>\n",
       "      <td>1</td>\n",
       "      <td>37</td>\n",
       "      <td>17</td>\n",
       "      <td>21</td>\n",
       "      <td>60</td>\n",
       "      <td>66</td>\n",
       "      <td>11</td>\n",
       "      <td>35</td>\n",
       "    </tr>\n",
       "  </tbody>\n",
       "</table>\n",
       "</div>"
      ],
      "text/plain": [
       "                  name hair_color skin_color eye_color   sex     gender  \\\n",
       "count               87         82         87        87    83         83   \n",
       "unique              87         12         31        15     4          2   \n",
       "top     Luke Skywalker       none       fair     brown  male  masculine   \n",
       "freq                 1         37         17        21    60         66   \n",
       "\n",
       "       homeworld species  \n",
       "count         77      83  \n",
       "unique        48      37  \n",
       "top        Naboo   Human  \n",
       "freq          11      35  "
      ]
     },
     "execution_count": 17,
     "metadata": {},
     "output_type": "execute_result"
    }
   ],
   "source": [
    "sw.describe(include =np.object) #범주형 데이터의 통계치 확인하기"
   ]
  },
  {
   "cell_type": "code",
   "execution_count": 18,
   "id": "cf9bb3ea",
   "metadata": {},
   "outputs": [
    {
     "name": "stdout",
     "output_type": "stream",
     "text": [
      "Hair color: ['blond' nan 'none' 'brown' 'brown, grey' 'black' 'auburn, white'\n",
      " 'auburn, grey' 'white' 'grey' 'auburn' 'blonde' 'unknown']\n"
     ]
    }
   ],
   "source": [
    "print('Hair color:', sw['hair_color'].unique())\n",
    "#범주형 데이터 컬럼 안에는 어떤 내용이 들어있을까?"
   ]
  },
  {
   "cell_type": "code",
   "execution_count": 21,
   "id": "890543e5",
   "metadata": {},
   "outputs": [
    {
     "name": "stdout",
     "output_type": "stream",
     "text": [
      "skin: ['fair' 'gold' 'white, blue' 'white' 'light' 'white, red' 'unknown'\n",
      " 'green' 'green-tan, brown' 'pale' 'metal' 'dark' 'brown mottle' 'brown'\n",
      " 'grey' 'mottled green' 'orange' 'blue, grey' 'grey, red' 'red' 'blue'\n",
      " 'grey, green, yellow' 'yellow' 'tan' 'fair, green, yellow' 'grey, blue'\n",
      " 'silver, red' 'green, grey' 'red, blue, white' 'brown, white' 'none']\n",
      "Eye colour:  ['blue' 'yellow' 'red' 'brown' 'blue-gray' 'black' 'orange' 'hazel' 'pink'\n",
      " 'unknown' 'red, blue' 'gold' 'green, yellow' 'white' 'dark']\n",
      "Sex:  ['male' 'none' 'female' 'hermaphroditic' nan]\n",
      "Gender:  ['masculine' 'feminine' nan]\n",
      "Homeworld:  ['Tatooine' 'Naboo' 'Alderaan' 'Stewjon' 'Eriadu' 'Kashyyyk' 'Corellia'\n",
      " 'Rodia' 'Nal Hutta' 'Bestine IV' nan 'Kamino' 'Trandosha' 'Socorro'\n",
      " 'Bespin' 'Mon Cala' 'Chandrila' 'Endor' 'Sullust' 'Cato Neimoidia'\n",
      " 'Coruscant' 'Toydaria' 'Malastare' 'Dathomir' 'Ryloth' 'Vulpter'\n",
      " 'Troiken' 'Tund' 'Haruun Kal' 'Cerea' 'Glee Anselm' 'Iridonia' 'Iktotch'\n",
      " 'Quermia' 'Dorin' 'Champala' 'Geonosis' 'Mirial' 'Serenno' 'Concord Dawn'\n",
      " 'Zolan' 'Ojom' 'Aleen Minor' 'Skako' 'Muunilinst' 'Shili' 'Kalee'\n",
      " 'Umbara' 'Utapau']\n",
      "Species:  ['Human' 'Droid' 'Wookiee' 'Rodian' 'Hutt' \"Yoda's species\" 'Trandoshan'\n",
      " 'Mon Calamari' 'Ewok' 'Sullustan' 'Neimodian' 'Gungan' nan 'Toydarian'\n",
      " 'Dug' 'Zabrak' \"Twi'lek\" 'Vulptereen' 'Xexto' 'Toong' 'Cerean' 'Nautolan'\n",
      " 'Tholothian' 'Iktotchi' 'Quermian' 'Kel Dor' 'Chagrian' 'Geonosian'\n",
      " 'Mirialan' 'Clawdite' 'Besalisk' 'Kaminoan' 'Aleena' 'Skakoan' 'Muun'\n",
      " 'Togruta' 'Kaleesh' \"Pau'an\"]\n"
     ]
    }
   ],
   "source": [
    "print('skin:', sw['skin_color'].unique())\n",
    "print('Eye colour: ', sw['eye_color'].unique())\n",
    "print('Sex: ', sw['sex'].unique())\n",
    "print('Gender: ', sw['gender'].unique())\n",
    "print('Homeworld: ', sw['homeworld'].unique())\n",
    "print('Species: ', sw['species'].unique())\n",
    "\n",
    "#범주가 적으면 범주 별 그래프를 그리기 쉽다\n",
    "#이 데이터에서는 sex, gender!"
   ]
  },
  {
   "cell_type": "code",
   "execution_count": 22,
   "id": "cc886c3e",
   "metadata": {},
   "outputs": [
    {
     "name": "stdout",
     "output_type": "stream",
     "text": [
      "총데이터 개수: 957\n"
     ]
    }
   ],
   "source": [
    "#데이터 내용 간단히 정리해서 출력하기\n",
    "print('총데이터 개수:', sw.shape[0]*sw.shape[1])"
   ]
  },
  {
   "cell_type": "code",
   "execution_count": 26,
   "id": "cb8f1528",
   "metadata": {},
   "outputs": [
    {
     "name": "stdout",
     "output_type": "stream",
     "text": [
      "총 결측치 수: 105 = 전체 데이터의 10.97% \n"
     ]
    }
   ],
   "source": [
    "print(\"총 결측치 수: {} = 전체 데이터의 {:.2f}% \".format(sw.isnull().sum().sum(), (sw.isnull().sum().sum()*100)/(sw.shape[0]*sw.shape[1])))"
   ]
  },
  {
   "cell_type": "code",
   "execution_count": 27,
   "id": "67c036c8",
   "metadata": {},
   "outputs": [
    {
     "name": "stdout",
     "output_type": "stream",
     "text": [
      "등장인물 수: 87\n",
      "종족 수:  37\n"
     ]
    }
   ],
   "source": [
    "print('등장인물 수:', sw['name'].nunique())\n",
    "print('종족 수: ',sw['species'].nunique())"
   ]
  },
  {
   "cell_type": "markdown",
   "id": "5f5e2522",
   "metadata": {},
   "source": [
    "2.데이터를 보고 질문 만들기\n",
    "스타워즈 캐릭터의 성별 비율은?\n",
    "성별에 따른 캐릭터 신장의 분포는?\n",
    "가장 무거운 캐릭터와 가장 가벼운 캐릭터는?\n",
    "스타워즈 캐릭터의 키와 몸무게는 상관관계를 가질까?\n",
    "3.데이터 정비하기\n"
   ]
  },
  {
   "cell_type": "code",
   "execution_count": 28,
   "id": "4efdee0a",
   "metadata": {},
   "outputs": [],
   "source": [
    "#3-1.결측치 처리하기"
   ]
  },
  {
   "cell_type": "code",
   "execution_count": 33,
   "id": "8e65995d",
   "metadata": {},
   "outputs": [
    {
     "data": {
      "text/plain": [
       "name          False\n",
       "height         True\n",
       "mass           True\n",
       "hair_color     True\n",
       "skin_color    False\n",
       "eye_color     False\n",
       "birth_year     True\n",
       "sex            True\n",
       "gender         True\n",
       "homeworld      True\n",
       "species        True\n",
       "dtype: bool"
      ]
     },
     "execution_count": 33,
     "metadata": {},
     "output_type": "execute_result"
    }
   ],
   "source": [
    "#NULL이 존재하는 컬럼 확인하기\n",
    "sw.isnull().any(axis=0)"
   ]
  },
  {
   "cell_type": "code",
   "execution_count": 39,
   "id": "4f8996d1",
   "metadata": {},
   "outputs": [
    {
     "data": {
      "text/plain": [
       "name           0\n",
       "height         0\n",
       "mass           0\n",
       "hair_color     5\n",
       "skin_color     0\n",
       "eye_color      0\n",
       "birth_year    44\n",
       "sex            4\n",
       "gender         4\n",
       "homeworld     10\n",
       "species        4\n",
       "dtype: int64"
      ]
     },
     "execution_count": 39,
     "metadata": {},
     "output_type": "execute_result"
    }
   ],
   "source": [
    "sw.isnull().sum() #컬럼별로 NULL 개수 확인하기"
   ]
  },
  {
   "cell_type": "code",
   "execution_count": 38,
   "id": "895b1b78",
   "metadata": {},
   "outputs": [
    {
     "data": {
      "text/html": [
       "<div>\n",
       "<style scoped>\n",
       "    .dataframe tbody tr th:only-of-type {\n",
       "        vertical-align: middle;\n",
       "    }\n",
       "\n",
       "    .dataframe tbody tr th {\n",
       "        vertical-align: top;\n",
       "    }\n",
       "\n",
       "    .dataframe thead th {\n",
       "        text-align: right;\n",
       "    }\n",
       "</style>\n",
       "<table border=\"1\" class=\"dataframe\">\n",
       "  <thead>\n",
       "    <tr style=\"text-align: right;\">\n",
       "      <th></th>\n",
       "      <th>name</th>\n",
       "      <th>height</th>\n",
       "      <th>mass</th>\n",
       "      <th>hair_color</th>\n",
       "      <th>skin_color</th>\n",
       "      <th>eye_color</th>\n",
       "      <th>birth_year</th>\n",
       "      <th>sex</th>\n",
       "      <th>gender</th>\n",
       "      <th>homeworld</th>\n",
       "      <th>species</th>\n",
       "    </tr>\n",
       "  </thead>\n",
       "  <tbody>\n",
       "    <tr>\n",
       "      <th>0</th>\n",
       "      <td>Luke Skywalker</td>\n",
       "      <td>172.0</td>\n",
       "      <td>77.0</td>\n",
       "      <td>blond</td>\n",
       "      <td>fair</td>\n",
       "      <td>blue</td>\n",
       "      <td>19.0</td>\n",
       "      <td>male</td>\n",
       "      <td>masculine</td>\n",
       "      <td>Tatooine</td>\n",
       "      <td>Human</td>\n",
       "    </tr>\n",
       "    <tr>\n",
       "      <th>1</th>\n",
       "      <td>C-3PO</td>\n",
       "      <td>167.0</td>\n",
       "      <td>75.0</td>\n",
       "      <td>NaN</td>\n",
       "      <td>gold</td>\n",
       "      <td>yellow</td>\n",
       "      <td>112.0</td>\n",
       "      <td>none</td>\n",
       "      <td>masculine</td>\n",
       "      <td>Tatooine</td>\n",
       "      <td>Droid</td>\n",
       "    </tr>\n",
       "    <tr>\n",
       "      <th>2</th>\n",
       "      <td>R2-D2</td>\n",
       "      <td>96.0</td>\n",
       "      <td>32.0</td>\n",
       "      <td>NaN</td>\n",
       "      <td>white, blue</td>\n",
       "      <td>red</td>\n",
       "      <td>33.0</td>\n",
       "      <td>none</td>\n",
       "      <td>masculine</td>\n",
       "      <td>Naboo</td>\n",
       "      <td>Droid</td>\n",
       "    </tr>\n",
       "    <tr>\n",
       "      <th>3</th>\n",
       "      <td>Darth Vader</td>\n",
       "      <td>202.0</td>\n",
       "      <td>136.0</td>\n",
       "      <td>none</td>\n",
       "      <td>white</td>\n",
       "      <td>yellow</td>\n",
       "      <td>41.9</td>\n",
       "      <td>male</td>\n",
       "      <td>masculine</td>\n",
       "      <td>Tatooine</td>\n",
       "      <td>Human</td>\n",
       "    </tr>\n",
       "    <tr>\n",
       "      <th>4</th>\n",
       "      <td>Leia Organa</td>\n",
       "      <td>150.0</td>\n",
       "      <td>49.0</td>\n",
       "      <td>brown</td>\n",
       "      <td>light</td>\n",
       "      <td>brown</td>\n",
       "      <td>19.0</td>\n",
       "      <td>female</td>\n",
       "      <td>feminine</td>\n",
       "      <td>Alderaan</td>\n",
       "      <td>Human</td>\n",
       "    </tr>\n",
       "  </tbody>\n",
       "</table>\n",
       "</div>"
      ],
      "text/plain": [
       "             name  height   mass hair_color   skin_color eye_color  \\\n",
       "0  Luke Skywalker   172.0   77.0      blond         fair      blue   \n",
       "1           C-3PO   167.0   75.0        NaN         gold    yellow   \n",
       "2           R2-D2    96.0   32.0        NaN  white, blue       red   \n",
       "3     Darth Vader   202.0  136.0       none        white    yellow   \n",
       "4     Leia Organa   150.0   49.0      brown        light     brown   \n",
       "\n",
       "   birth_year     sex     gender homeworld species  \n",
       "0        19.0    male  masculine  Tatooine   Human  \n",
       "1       112.0    none  masculine  Tatooine   Droid  \n",
       "2        33.0    none  masculine     Naboo   Droid  \n",
       "3        41.9    male  masculine  Tatooine   Human  \n",
       "4        19.0  female   feminine  Alderaan   Human  "
      ]
     },
     "execution_count": 38,
     "metadata": {},
     "output_type": "execute_result"
    }
   ],
   "source": [
    "#어떤 컬럼의 결측치를 처리할것인가?\n",
    "#hair color, sex, gender, homeworld, species의 경우 개인 특성이므로 다른 값을 넣어주는 것이 의미가 없다\n",
    "#height, mass에서는 결측치를 0으로 처리해보자\n",
    "sw['height'].fillna(0, inplace=True)\n",
    "sw['mass'].fillna(0, inplace=True)\n",
    "sw.head()"
   ]
  },
  {
   "cell_type": "code",
   "execution_count": 42,
   "id": "5bfc1588",
   "metadata": {},
   "outputs": [
    {
     "name": "stdout",
     "output_type": "stream",
     "text": [
      "      name  height   mass hair_color   skin_color  eye_color  birth_year  \\\n",
      "1    C-3PO   167.0   75.0        NaN         gold     yellow       112.0   \n",
      "2    R2-D2    96.0   32.0        NaN  white, blue        red        33.0   \n",
      "7    R5-D4    97.0   32.0        NaN   white, red        red         NaN   \n",
      "21   IG-88   200.0  140.0       none        metal        red        15.0   \n",
      "72  R4-P17    96.0    0.0       none  silver, red  red, blue         NaN   \n",
      "84     BB8     0.0    0.0       none         none      black         NaN   \n",
      "\n",
      "     sex     gender homeworld species  \n",
      "1   none  masculine  Tatooine   Droid  \n",
      "2   none  masculine     Naboo   Droid  \n",
      "7   none  masculine  Tatooine   Droid  \n",
      "21  none  masculine       NaN   Droid  \n",
      "72  none   feminine       NaN   Droid  \n",
      "84  none  masculine       NaN   Droid  \n",
      "              name  height  mass hair_color skin_color eye_color  birth_year  \\\n",
      "36        Ric Oli?   183.0   0.0      brown       fair      blue         NaN   \n",
      "39   Quarsh Panaka   183.0   0.0      black       dark     brown        62.0   \n",
      "79       Sly Moore   178.0  48.0       none       pale     white         NaN   \n",
      "85  Captain Phasma     0.0   0.0    unknown    unknown   unknown         NaN   \n",
      "\n",
      "    sex gender homeworld species  \n",
      "36  NaN    NaN     Naboo     NaN  \n",
      "39  NaN    NaN     Naboo     NaN  \n",
      "79  NaN    NaN    Umbara     NaN  \n",
      "85  NaN    NaN       NaN     NaN  \n"
     ]
    }
   ],
   "source": [
    "print(sw[sw['sex'] == 'none'])\n",
    "print(sw[sw['sex'].isnull()])"
   ]
  },
  {
   "cell_type": "code",
   "execution_count": 43,
   "id": "7432e862",
   "metadata": {},
   "outputs": [
    {
     "name": "stdout",
     "output_type": "stream",
     "text": [
      "Sex:  ['male' 'robot' 'female' 'hermaphroditic' nan]\n"
     ]
    }
   ],
   "source": [
    "sw['sex'][(sw['sex'] == 'none')] = 'robot'\n",
    "print('Sex: ', sw['sex'].unique())"
   ]
  },
  {
   "cell_type": "markdown",
   "id": "91e8ef6d",
   "metadata": {},
   "source": [
    "# 4.EDA & Visualization"
   ]
  },
  {
   "cell_type": "code",
   "execution_count": 44,
   "id": "4819d4f4",
   "metadata": {},
   "outputs": [],
   "source": [
    "#4-1. 스타워즈 캐릭터의 성별 비율"
   ]
  },
  {
   "cell_type": "code",
   "execution_count": 47,
   "id": "fe9beefc",
   "metadata": {},
   "outputs": [
    {
     "data": {
      "text/plain": [
       "male              60\n",
       "female            16\n",
       "robot              6\n",
       "hermaphroditic     1\n",
       "Name: sex, dtype: int64"
      ]
     },
     "execution_count": 47,
     "metadata": {},
     "output_type": "execute_result"
    }
   ],
   "source": [
    "#스타워즈 캐릭터의 성비(sex, gender)는?\n",
    "sw['gender'].value_counts()\n",
    "sw['sex'].value_counts()"
   ]
  },
  {
   "cell_type": "code",
   "execution_count": 61,
   "id": "d2e84598",
   "metadata": {},
   "outputs": [
    {
     "data": {
      "image/png": "[encoded data removed]",
      "text/plain": [
       "<Figure size 1296x576 with 2 Axes>"
      ]
     },
     "metadata": {
      "needs_background": "light"
     },
     "output_type": "display_data"
    }
   ],
   "source": [
    "#그래프\n",
    "f, ax = plt.subplots(1,2,figsize=(18,8))\n",
    "sw['gender'].value_counts().plot.pie(ax=ax[0], autopct='%1.0f%%', shadow=True)\n",
    "ax[0].set_title('Starwars:Gender', size =18)\n",
    "ax[0].set_ylabel('')\n",
    "sns.countplot(x='sex', data=sw, ax=ax[1])\n",
    "ax[1].set_title('Starwars: Sex', size=18)\n",
    "plt.show()"
   ]
  },
  {
   "cell_type": "markdown",
   "id": "4fad63ee",
   "metadata": {},
   "source": [
    "4-2. 스타워즈 캐릭터의 성별에 따른 신장 분포"
   ]
  },
  {
   "cell_type": "code",
   "execution_count": 62,
   "id": "0aaf7410",
   "metadata": {},
   "outputs": [
    {
     "data": {
      "text/plain": [
       "count     87.000000\n",
       "mean     162.333333\n",
       "std       55.671726\n",
       "min        0.000000\n",
       "25%      164.000000\n",
       "50%      178.000000\n",
       "75%      190.500000\n",
       "max      264.000000\n",
       "Name: height, dtype: float64"
      ]
     },
     "execution_count": 62,
     "metadata": {},
     "output_type": "execute_result"
    }
   ],
   "source": [
    "sw['height'].describe()"
   ]
  },
  {
   "cell_type": "code",
   "execution_count": 63,
   "id": "c224cabf",
   "metadata": {},
   "outputs": [
    {
     "name": "stdout",
     "output_type": "stream",
     "text": [
      "Skewness: -1.760878\n",
      "Kurtosis: 2.927697\n"
     ]
    }
   ],
   "source": [
    "#skewness and kurtosis 구하기\n",
    "#Skewness(왜도): 데이터가 정규분포에서 한 쪽으로 치우쳐있는가?\n",
    "#                -3 < skewness < 3 사이의 값이면 기준에 부합한다\n",
    "#Kurtosis(첨도): 얼마나 뾰족한가(데이터가 얼마나 평균 근처에 몰려있는가)?\n",
    "#               : 정규분포의 kurtosis = 0\n",
    "print(\"Skewness: %f\" % sw['height'].skew())\n",
    "print(\"Kurtosis: %f\" % sw['height'].kurt())"
   ]
  },
  {
   "cell_type": "code",
   "execution_count": 64,
   "id": "b9629fb0",
   "metadata": {},
   "outputs": [
    {
     "data": {
      "text/html": [
       "<div>\n",
       "<style scoped>\n",
       "    .dataframe tbody tr th:only-of-type {\n",
       "        vertical-align: middle;\n",
       "    }\n",
       "\n",
       "    .dataframe tbody tr th {\n",
       "        vertical-align: top;\n",
       "    }\n",
       "\n",
       "    .dataframe thead th {\n",
       "        text-align: right;\n",
       "    }\n",
       "</style>\n",
       "<table border=\"1\" class=\"dataframe\">\n",
       "  <thead>\n",
       "    <tr style=\"text-align: right;\">\n",
       "      <th></th>\n",
       "      <th>name</th>\n",
       "      <th>height</th>\n",
       "      <th>mass</th>\n",
       "      <th>hair_color</th>\n",
       "      <th>skin_color</th>\n",
       "      <th>eye_color</th>\n",
       "      <th>birth_year</th>\n",
       "      <th>sex</th>\n",
       "      <th>gender</th>\n",
       "      <th>homeworld</th>\n",
       "      <th>species</th>\n",
       "    </tr>\n",
       "  </thead>\n",
       "  <tbody>\n",
       "    <tr>\n",
       "      <th>15</th>\n",
       "      <td>Jabba Desilijic Tiure</td>\n",
       "      <td>175.0</td>\n",
       "      <td>1358.0</td>\n",
       "      <td>NaN</td>\n",
       "      <td>green-tan, brown</td>\n",
       "      <td>orange</td>\n",
       "      <td>600.0</td>\n",
       "      <td>hermaphroditic</td>\n",
       "      <td>masculine</td>\n",
       "      <td>Nal Hutta</td>\n",
       "      <td>Hutt</td>\n",
       "    </tr>\n",
       "  </tbody>\n",
       "</table>\n",
       "</div>"
      ],
      "text/plain": [
       "                     name  height    mass hair_color        skin_color  \\\n",
       "15  Jabba Desilijic Tiure   175.0  1358.0        NaN  green-tan, brown   \n",
       "\n",
       "   eye_color  birth_year             sex     gender  homeworld species  \n",
       "15    orange       600.0  hermaphroditic  masculine  Nal Hutta    Hutt  "
      ]
     },
     "execution_count": 64,
     "metadata": {},
     "output_type": "execute_result"
    }
   ],
   "source": [
    "#자웅동체(hermaphroditic) 캐릭터(Jabba Desilijic Tiure)는 하나 뿐이므로 확률분포를 구하는것이 불가능!\n",
    "sw[sw['sex'] == 'hermaphroditic'].head()"
   ]
  },
  {
   "cell_type": "code",
   "execution_count": 70,
   "id": "c17b92a4",
   "metadata": {},
   "outputs": [
    {
     "data": {
      "image/png": "[encoded data removed]",
      "text/plain": [
       "<Figure size 1152x360 with 2 Axes>"
      ]
     },
     "metadata": {
      "needs_background": "light"
     },
     "output_type": "display_data"
    }
   ],
   "source": [
    "fig, ax = plt.subplots(1,2,figsize=(16,5))\n",
    "#히스토그램\n",
    "sns.distplot(sw[sw['sex']=='male']['height'],ax=ax[0]) #ax=0 left\n",
    "sns.distplot(sw[sw['sex']=='female']['height'], ax=ax[0])\n",
    "sns.distplot(sw[sw['sex']=='robot']['height'], ax=ax[0])\n",
    "ax[0].legend(['male','female','robot'])\n",
    "#분포\n",
    "sns.kdeplot(sw[sw['gender'] == 'masculine']['height'], ax=ax[1]) #ax=1 right\n",
    "sns.kdeplot(sw[sw['gender'] == 'feminine']['height'], ax=ax[1])\n",
    "ax[1].legend(['Masculine','Feminine'])\n",
    "\n",
    "plt.show()"
   ]
  },
  {
   "cell_type": "markdown",
   "id": "d5a8d36e",
   "metadata": {},
   "source": [
    "4-3. 가장 가벼운 캐릭터와 가장 무거운 캐릭터"
   ]
  },
  {
   "cell_type": "code",
   "execution_count": 71,
   "id": "fe77a428",
   "metadata": {},
   "outputs": [
    {
     "data": {
      "text/plain": [
       "15.0"
      ]
     },
     "execution_count": 71,
     "metadata": {},
     "output_type": "execute_result"
    }
   ],
   "source": [
    "notz = sw[sw['mass']!=0] #몸무게가 가장 가벼운 캐릭터\n",
    "min(notz['mass'])#몸무게가 0인 것은 제외하자!"
   ]
  },
  {
   "cell_type": "code",
   "execution_count": 75,
   "id": "74fdd4cc",
   "metadata": {},
   "outputs": [
    {
     "name": "stdout",
     "output_type": "stream",
     "text": [
      "['Ratts Tyerell']의 몸무게가 15.0 (으)로 가장 가볍다 \n",
      "['Jabba Desilijic Tiure']의 몸무게가 1358.0 (으)로 가장 가볍다 \n"
     ]
    }
   ],
   "source": [
    "print(\"{}의 몸무게가 {} (으)로 가장 가볍다 \".format(notz[notz['mass'] == min(notz['mass'])]['name'].values, min(notz['mass'])))\n",
    "print(\"{}의 몸무게가 {} (으)로 가장 가볍다 \".format(notz[notz['mass'] == max(notz['mass'])]['name'].values, max(notz['mass'])))"
   ]
  },
  {
   "cell_type": "markdown",
   "id": "d8b1c93d",
   "metadata": {},
   "source": [
    "4-4.스타워즈 캐릭터의 종족 간 몸무게 비교"
   ]
  },
  {
   "cell_type": "code",
   "execution_count": 81,
   "id": "e2df5344",
   "metadata": {},
   "outputs": [
    {
     "data": {
      "text/html": [
       "<div>\n",
       "<style scoped>\n",
       "    .dataframe tbody tr th:only-of-type {\n",
       "        vertical-align: middle;\n",
       "    }\n",
       "\n",
       "    .dataframe tbody tr th {\n",
       "        vertical-align: top;\n",
       "    }\n",
       "\n",
       "    .dataframe thead th {\n",
       "        text-align: right;\n",
       "    }\n",
       "</style>\n",
       "<table border=\"1\" class=\"dataframe\">\n",
       "  <thead>\n",
       "    <tr style=\"text-align: right;\">\n",
       "      <th></th>\n",
       "      <th>mass</th>\n",
       "    </tr>\n",
       "    <tr>\n",
       "      <th>species</th>\n",
       "      <th></th>\n",
       "    </tr>\n",
       "  </thead>\n",
       "  <tbody>\n",
       "    <tr>\n",
       "      <th>Aleena</th>\n",
       "      <td>15.0</td>\n",
       "    </tr>\n",
       "    <tr>\n",
       "      <th>Besalisk</th>\n",
       "      <td>102.0</td>\n",
       "    </tr>\n",
       "    <tr>\n",
       "      <th>Cerean</th>\n",
       "      <td>82.0</td>\n",
       "    </tr>\n",
       "    <tr>\n",
       "      <th>Chagrian</th>\n",
       "      <td>0.0</td>\n",
       "    </tr>\n",
       "    <tr>\n",
       "      <th>Clawdite</th>\n",
       "      <td>55.0</td>\n",
       "    </tr>\n",
       "  </tbody>\n",
       "</table>\n",
       "</div>"
      ],
      "text/plain": [
       "           mass\n",
       "species        \n",
       "Aleena     15.0\n",
       "Besalisk  102.0\n",
       "Cerean     82.0\n",
       "Chagrian    0.0\n",
       "Clawdite   55.0"
      ]
     },
     "execution_count": 81,
     "metadata": {},
     "output_type": "execute_result"
    }
   ],
   "source": [
    "weight = sw[['species', 'mass']].groupby(['species'], as_index=True).mean()\n",
    "weight.head()#Groupby로 스타워즈 종족 별 평균 몸무게를 계산해보자"
   ]
  },
  {
   "cell_type": "code",
   "execution_count": 80,
   "id": "e33eb459",
   "metadata": {},
   "outputs": [
    {
     "data": {
      "image/png": "[encoded data removed]",
      "text/plain": [
       "<Figure size 432x288 with 1 Axes>"
      ]
     },
     "metadata": {
      "needs_background": "light"
     },
     "output_type": "display_data"
    }
   ],
   "source": [
    "weight['mass'].sort_values(ascending=False).head(10).plot.bar(color='red')\n",
    "plt.xticks(rotation=45) #이름 각도\n",
    "plt.show()"
   ]
  },
  {
   "cell_type": "code",
   "execution_count": 83,
   "id": "6dd34ac0",
   "metadata": {},
   "outputs": [
    {
     "data": {
      "image/png": "[encoded data removed]",
      "text/plain": [
       "<Figure size 720x576 with 1 Axes>"
      ]
     },
     "metadata": {
      "needs_background": "light"
     },
     "output_type": "display_data"
    }
   ],
   "source": [
    "#스타워즈 종족별 몸무게 많은 순으로 그래프를 그려보자\n",
    "f, ax = plt.subplots(1,1,figsize =(10,8))\n",
    "colors = sns.color_palette('hls',len(weight['mass']))\n",
    "\n",
    "g= weight['mass'].sort_values(ascending=False).plot.bar(color=colors)\n",
    "g.set_xticklabels(g.get_xticklabels(), rotation=90)\n",
    "plt.show()"
   ]
  },
  {
   "cell_type": "markdown",
   "id": "2e22b41d",
   "metadata": {},
   "source": [
    "4-5. 스타워즈 캐릭터의 무게-키 상관관계"
   ]
  },
  {
   "cell_type": "code",
   "execution_count": 128,
   "id": "ac056023",
   "metadata": {},
   "outputs": [],
   "source": [
    "sw['mass'] = sw['mass'].astype(int)"
   ]
  },
  {
   "cell_type": "code",
   "execution_count": 129,
   "id": "48b0f512",
   "metadata": {
    "scrolled": false
   },
   "outputs": [
    {
     "data": {
      "text/plain": [
       "0      77\n",
       "1      75\n",
       "2      32\n",
       "3     136\n",
       "4      49\n",
       "     ... \n",
       "82      0\n",
       "83      0\n",
       "84      0\n",
       "85      0\n",
       "86     45\n",
       "Name: mass, Length: 87, dtype: int64"
      ]
     },
     "execution_count": 129,
     "metadata": {},
     "output_type": "execute_result"
    }
   ],
   "source": [
    "sw['mass']"
   ]
  },
  {
   "cell_type": "code",
   "execution_count": 8,
   "id": "85023798",
   "metadata": {},
   "outputs": [],
   "source": [
    "out2 = sw['mass'].isin([0])"
   ]
  },
  {
   "cell_type": "code",
   "execution_count": 9,
   "id": "6c225252",
   "metadata": {
    "scrolled": true
   },
   "outputs": [
    {
     "data": {
      "text/plain": [
       "0      77.0\n",
       "1      75.0\n",
       "2      32.0\n",
       "3     136.0\n",
       "4      49.0\n",
       "      ...  \n",
       "82      NaN\n",
       "83      NaN\n",
       "84      NaN\n",
       "85      NaN\n",
       "86     45.0\n",
       "Name: mass, Length: 87, dtype: float64"
      ]
     },
     "execution_count": 9,
     "metadata": {},
     "output_type": "execute_result"
    }
   ],
   "source": [
    "sw[~out2]['mass']"
   ]
  },
  {
   "cell_type": "code",
   "execution_count": 15,
   "id": "019d5b7d",
   "metadata": {},
   "outputs": [
    {
     "data": {
      "text/plain": [
       "(86, 11)"
      ]
     },
     "execution_count": 15,
     "metadata": {},
     "output_type": "execute_result"
    }
   ],
   "source": [
    "#Hutt은 몸무게가 너무 outlier 하므로 out시키자!\n",
    "#몸무게가 0인 것도 제외시키자!\n",
    "out1 = sw['species'].isin(['Hutt'])\n",
    "out2 = sw['mass'].isin([0])\n",
    "sw[~out1][~out2].shape"
   ]
  },
  {
   "cell_type": "code",
   "execution_count": 16,
   "id": "0d22ab63",
   "metadata": {},
   "outputs": [
    {
     "data": {
      "image/png": "[encoded data removed]",
      "text/plain": [
       "<Figure size 441.375x360 with 1 Axes>"
      ]
     },
     "metadata": {},
     "output_type": "display_data"
    }
   ],
   "source": [
    "#두 데이터 사이의 상관관계를 나타내주는 lmplot\n",
    "#replot은 점만 나타난다\n",
    "sns.lmplot(data=sw[~out1][~out2], x='height', y='mass', hue='gender')\n",
    "sns.set_style(style='darkgrid')\n",
    "plt.show()"
   ]
  },
  {
   "cell_type": "markdown",
   "id": "19fc48e5",
   "metadata": {},
   "source": [
    "# 5.Review"
   ]
  },
  {
   "cell_type": "markdown",
   "id": "0d6b2da6",
   "metadata": {},
   "source": [
    "스타워즈 데이터는:\n",
    "총 데이터 개수: 957\n",
    "총 결측치 수: 105 = 전체 데이터의 10.97%\n",
    "스타워즈에 등장하는 등장인물 수: 87\n",
    "스타워즈에 등장하는 종족 수: 37\n",
    "스타워즈 캐릭터의 성별 비율은?\n",
    ": 남성/남성 gender를 가진 캐릭터가 80% 가량을 차지한다.\n",
    "성별에 따른 캐릭터 신장의 분포는?\n",
    ": 남성 캐릭터의 키가 대체로 여성보다 크며, 로봇은 그보다 키가 작다.\n",
    "가장 무거운 캐릭터와 가장 가벼운 캐릭터는?\n",
    ": ['Ratts Tyerell']의 몸무게가 15.0 (으)로 가장 가볍다\n",
    "['Jabba Desilijic Tiure']의 몸무게가 1358.0 (으)로 가장 가볍다\n",
    "스타워즈 캐릭터의 키와 몸무게는 상관관계를 가질까?\n",
    ": 그렇다. 인간과 다른 행성에 사는 종족이지만, 키와 몸무게는 대체로 비례 관계를 보인다."
   ]
  },
  {
   "cell_type": "code",
   "execution_count": null,
   "id": "5b0994bc",
   "metadata": {},
   "outputs": [],
   "source": []
  }
 ],
 "metadata": {
  "kernelspec": {
   "display_name": "Python 3 (ipykernel)",
   "language": "python",
   "name": "python3"
  },
  "language_info": {
   "codemirror_mode": {
    "name": "ipython",
    "version": 3
   },
   "file_extension": ".py",
   "mimetype": "text/x-python",
   "name": "python",
   "nbconvert_exporter": "python",
   "pygments_lexer": "ipython3",
   "version": "3.9.7"
  }
 },
 "nbformat": 4,
 "nbformat_minor": 5
}
